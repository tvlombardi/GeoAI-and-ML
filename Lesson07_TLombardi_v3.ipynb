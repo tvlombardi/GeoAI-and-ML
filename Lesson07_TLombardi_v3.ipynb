{
 "cells": [
  {
   "cell_type": "markdown",
   "metadata": {},
   "source": [
    "## Lesson 7 Homework\n",
    "### TLombardi"
   ]
  },
  {
   "cell_type": "markdown",
   "metadata": {},
   "source": [
    "This notebook uses three ensemble methods, AdaBoost, GDM and XGBoost, to compare predictions of NYC taxi trip durations using big data."
   ]
  },
  {
   "cell_type": "markdown",
   "metadata": {},
   "source": [
    "#### 1. Imports"
   ]
  },
  {
   "cell_type": "code",
   "execution_count": 1,
   "metadata": {},
   "outputs": [],
   "source": [
    "# Imports\n",
    "import math\n",
    "import numpy as np\n",
    "import pandas as pd\n",
    "import seaborn as sns\n",
    "import matplotlib.pyplot as plt\n",
    "%matplotlib inline\n",
    "import sklearn as skl\n",
    "from sklearn import model_selection\n",
    "import xgboost as xgb"
   ]
  },
  {
   "cell_type": "markdown",
   "metadata": {},
   "source": [
    "#### 2. Implement the haversine function to calculate the distance between two lon/lat coordinates and vectorize it using numpy"
   ]
  },
  {
   "cell_type": "code",
   "execution_count": 2,
   "metadata": {},
   "outputs": [],
   "source": [
    "# Adapted formula from comments in https://gist.github.com/rochacbruno/2883505\n",
    "def distance_vectorize(s_lat, s_lng, e_lat, e_lng, df):\n",
    "    \n",
    "    # approximate radius of earth in km\n",
    "    R = 6371.0\n",
    "    \n",
    "    s_lat = s_lat*np.pi/180.0                      \n",
    "    s_lng = np.deg2rad(s_lng)     \n",
    "    e_lat = np.deg2rad(e_lat)                       \n",
    "    e_lng = np.deg2rad(e_lng)  \n",
    "    \n",
    "    d = np.sin((e_lat - s_lat)/2)**2 + np.cos(s_lat)*np.cos(e_lat) * np.sin((e_lng - s_lng)/2)**2\n",
    "    \n",
    "    df['haversine_distance_km'] = 2 * R * np.arcsin(np.sqrt(d))"
   ]
  },
  {
   "cell_type": "markdown",
   "metadata": {},
   "source": [
    "#### 3. Read the train.csv from [Kaggle.com](https://www.kaggle.com/c/new-york-city-taxi-fare-prediction)"
   ]
  },
  {
   "cell_type": "code",
   "execution_count": 3,
   "metadata": {},
   "outputs": [],
   "source": [
    "# Read file paths\n",
    "train_filepath = \"C:/Users/TVL/Desktop/JHU/SP20_GeoAI/Lesson02/new-york-city-taxi-fare-prediction/train.csv\"\n",
    "test_filepath = \"C:/Users/TVL/Desktop/JHU/SP20_GeoAI/Lesson02/new-york-city-taxi-fare-prediction/test.csv\""
   ]
  },
  {
   "cell_type": "code",
   "execution_count": 4,
   "metadata": {},
   "outputs": [],
   "source": [
    "# Read the files\n",
    "train = pd.read_csv(train_filepath, \n",
    "                         delimiter=',',\n",
    "                         index_col=0, \n",
    "                         nrows = 500_000, \n",
    "                         parse_dates=[\"pickup_datetime\",\n",
    "                                      \"dropoff_datetime\"])\n",
    "test = pd.read_csv(test_filepath,\n",
    "                  parse_dates=[\"pickup_datetime\"])"
   ]
  },
  {
   "cell_type": "code",
   "execution_count": 5,
   "metadata": {},
   "outputs": [
    {
     "data": {
      "text/html": [
       "<div>\n",
       "<style scoped>\n",
       "    .dataframe tbody tr th:only-of-type {\n",
       "        vertical-align: middle;\n",
       "    }\n",
       "\n",
       "    .dataframe tbody tr th {\n",
       "        vertical-align: top;\n",
       "    }\n",
       "\n",
       "    .dataframe thead th {\n",
       "        text-align: right;\n",
       "    }\n",
       "</style>\n",
       "<table border=\"1\" class=\"dataframe\">\n",
       "  <thead>\n",
       "    <tr style=\"text-align: right;\">\n",
       "      <th></th>\n",
       "      <th>vendor_id</th>\n",
       "      <th>pickup_datetime</th>\n",
       "      <th>dropoff_datetime</th>\n",
       "      <th>passenger_count</th>\n",
       "      <th>pickup_longitude</th>\n",
       "      <th>pickup_latitude</th>\n",
       "      <th>dropoff_longitude</th>\n",
       "      <th>dropoff_latitude</th>\n",
       "      <th>store_and_fwd_flag</th>\n",
       "      <th>trip_duration</th>\n",
       "    </tr>\n",
       "    <tr>\n",
       "      <th>id</th>\n",
       "      <th></th>\n",
       "      <th></th>\n",
       "      <th></th>\n",
       "      <th></th>\n",
       "      <th></th>\n",
       "      <th></th>\n",
       "      <th></th>\n",
       "      <th></th>\n",
       "      <th></th>\n",
       "      <th></th>\n",
       "    </tr>\n",
       "  </thead>\n",
       "  <tbody>\n",
       "    <tr>\n",
       "      <td>id2875421</td>\n",
       "      <td>2</td>\n",
       "      <td>2016-03-14 17:24:55</td>\n",
       "      <td>2016-03-14 17:32:30</td>\n",
       "      <td>1</td>\n",
       "      <td>-73.982155</td>\n",
       "      <td>40.767937</td>\n",
       "      <td>-73.964630</td>\n",
       "      <td>40.765602</td>\n",
       "      <td>N</td>\n",
       "      <td>455</td>\n",
       "    </tr>\n",
       "    <tr>\n",
       "      <td>id2377394</td>\n",
       "      <td>1</td>\n",
       "      <td>2016-06-12 00:43:35</td>\n",
       "      <td>2016-06-12 00:54:38</td>\n",
       "      <td>1</td>\n",
       "      <td>-73.980415</td>\n",
       "      <td>40.738564</td>\n",
       "      <td>-73.999481</td>\n",
       "      <td>40.731152</td>\n",
       "      <td>N</td>\n",
       "      <td>663</td>\n",
       "    </tr>\n",
       "    <tr>\n",
       "      <td>id3858529</td>\n",
       "      <td>2</td>\n",
       "      <td>2016-01-19 11:35:24</td>\n",
       "      <td>2016-01-19 12:10:48</td>\n",
       "      <td>1</td>\n",
       "      <td>-73.979027</td>\n",
       "      <td>40.763939</td>\n",
       "      <td>-74.005333</td>\n",
       "      <td>40.710087</td>\n",
       "      <td>N</td>\n",
       "      <td>2124</td>\n",
       "    </tr>\n",
       "    <tr>\n",
       "      <td>id3504673</td>\n",
       "      <td>2</td>\n",
       "      <td>2016-04-06 19:32:31</td>\n",
       "      <td>2016-04-06 19:39:40</td>\n",
       "      <td>1</td>\n",
       "      <td>-74.010040</td>\n",
       "      <td>40.719971</td>\n",
       "      <td>-74.012268</td>\n",
       "      <td>40.706718</td>\n",
       "      <td>N</td>\n",
       "      <td>429</td>\n",
       "    </tr>\n",
       "    <tr>\n",
       "      <td>id2181028</td>\n",
       "      <td>2</td>\n",
       "      <td>2016-03-26 13:30:55</td>\n",
       "      <td>2016-03-26 13:38:10</td>\n",
       "      <td>1</td>\n",
       "      <td>-73.973053</td>\n",
       "      <td>40.793209</td>\n",
       "      <td>-73.972923</td>\n",
       "      <td>40.782520</td>\n",
       "      <td>N</td>\n",
       "      <td>435</td>\n",
       "    </tr>\n",
       "  </tbody>\n",
       "</table>\n",
       "</div>"
      ],
      "text/plain": [
       "           vendor_id     pickup_datetime    dropoff_datetime  passenger_count  \\\n",
       "id                                                                              \n",
       "id2875421          2 2016-03-14 17:24:55 2016-03-14 17:32:30                1   \n",
       "id2377394          1 2016-06-12 00:43:35 2016-06-12 00:54:38                1   \n",
       "id3858529          2 2016-01-19 11:35:24 2016-01-19 12:10:48                1   \n",
       "id3504673          2 2016-04-06 19:32:31 2016-04-06 19:39:40                1   \n",
       "id2181028          2 2016-03-26 13:30:55 2016-03-26 13:38:10                1   \n",
       "\n",
       "           pickup_longitude  pickup_latitude  dropoff_longitude  \\\n",
       "id                                                                \n",
       "id2875421        -73.982155        40.767937         -73.964630   \n",
       "id2377394        -73.980415        40.738564         -73.999481   \n",
       "id3858529        -73.979027        40.763939         -74.005333   \n",
       "id3504673        -74.010040        40.719971         -74.012268   \n",
       "id2181028        -73.973053        40.793209         -73.972923   \n",
       "\n",
       "           dropoff_latitude store_and_fwd_flag  trip_duration  \n",
       "id                                                             \n",
       "id2875421         40.765602                  N            455  \n",
       "id2377394         40.731152                  N            663  \n",
       "id3858529         40.710087                  N           2124  \n",
       "id3504673         40.706718                  N            429  \n",
       "id2181028         40.782520                  N            435  "
      ]
     },
     "execution_count": 5,
     "metadata": {},
     "output_type": "execute_result"
    }
   ],
   "source": [
    "# list first few rows (datapoints)\n",
    "train.head()"
   ]
  },
  {
   "cell_type": "code",
   "execution_count": 6,
   "metadata": {},
   "outputs": [
    {
     "data": {
      "text/plain": [
       "vendor_id                      int64\n",
       "pickup_datetime       datetime64[ns]\n",
       "dropoff_datetime      datetime64[ns]\n",
       "passenger_count                int64\n",
       "pickup_longitude             float64\n",
       "pickup_latitude              float64\n",
       "dropoff_longitude            float64\n",
       "dropoff_latitude             float64\n",
       "store_and_fwd_flag            object\n",
       "trip_duration                  int64\n",
       "dtype: object"
      ]
     },
     "execution_count": 6,
     "metadata": {},
     "output_type": "execute_result"
    }
   ],
   "source": [
    "# check datatypes\n",
    "train.dtypes"
   ]
  },
  {
   "cell_type": "code",
   "execution_count": 7,
   "metadata": {},
   "outputs": [
    {
     "name": "stdout",
     "output_type": "stream",
     "text": [
      "<class 'pandas.core.frame.DataFrame'>\n",
      "Index: 500000 entries, id2875421 to id0013408\n",
      "Data columns (total 10 columns):\n",
      "vendor_id             500000 non-null int64\n",
      "pickup_datetime       500000 non-null datetime64[ns]\n",
      "dropoff_datetime      500000 non-null datetime64[ns]\n",
      "passenger_count       500000 non-null int64\n",
      "pickup_longitude      500000 non-null float64\n",
      "pickup_latitude       500000 non-null float64\n",
      "dropoff_longitude     500000 non-null float64\n",
      "dropoff_latitude      500000 non-null float64\n",
      "store_and_fwd_flag    500000 non-null object\n",
      "trip_duration         500000 non-null int64\n",
      "dtypes: datetime64[ns](2), float64(4), int64(3), object(1)\n",
      "memory usage: 42.0+ MB\n"
     ]
    }
   ],
   "source": [
    "train.info()"
   ]
  },
  {
   "cell_type": "code",
   "execution_count": 8,
   "metadata": {},
   "outputs": [
    {
     "data": {
      "text/plain": [
       "vendor_id             0\n",
       "pickup_datetime       0\n",
       "dropoff_datetime      0\n",
       "passenger_count       0\n",
       "pickup_longitude      0\n",
       "pickup_latitude       0\n",
       "dropoff_longitude     0\n",
       "dropoff_latitude      0\n",
       "store_and_fwd_flag    0\n",
       "trip_duration         0\n",
       "dtype: int64"
      ]
     },
     "execution_count": 8,
     "metadata": {},
     "output_type": "execute_result"
    }
   ],
   "source": [
    "# Locate null data\n",
    "train.isnull().sum()"
   ]
  },
  {
   "cell_type": "code",
   "execution_count": 9,
   "metadata": {},
   "outputs": [
    {
     "data": {
      "text/html": [
       "<div>\n",
       "<style scoped>\n",
       "    .dataframe tbody tr th:only-of-type {\n",
       "        vertical-align: middle;\n",
       "    }\n",
       "\n",
       "    .dataframe tbody tr th {\n",
       "        vertical-align: top;\n",
       "    }\n",
       "\n",
       "    .dataframe thead th {\n",
       "        text-align: right;\n",
       "    }\n",
       "</style>\n",
       "<table border=\"1\" class=\"dataframe\">\n",
       "  <thead>\n",
       "    <tr style=\"text-align: right;\">\n",
       "      <th></th>\n",
       "      <th>key</th>\n",
       "      <th>pickup_datetime</th>\n",
       "      <th>pickup_longitude</th>\n",
       "      <th>pickup_latitude</th>\n",
       "      <th>dropoff_longitude</th>\n",
       "      <th>dropoff_latitude</th>\n",
       "      <th>passenger_count</th>\n",
       "    </tr>\n",
       "  </thead>\n",
       "  <tbody>\n",
       "    <tr>\n",
       "      <td>0</td>\n",
       "      <td>2015-01-27 13:08:24.0000002</td>\n",
       "      <td>2015-01-27 13:08:24+00:00</td>\n",
       "      <td>-73.973320</td>\n",
       "      <td>40.763805</td>\n",
       "      <td>-73.981430</td>\n",
       "      <td>40.743835</td>\n",
       "      <td>1</td>\n",
       "    </tr>\n",
       "    <tr>\n",
       "      <td>1</td>\n",
       "      <td>2015-01-27 13:08:24.0000003</td>\n",
       "      <td>2015-01-27 13:08:24+00:00</td>\n",
       "      <td>-73.986862</td>\n",
       "      <td>40.719383</td>\n",
       "      <td>-73.998886</td>\n",
       "      <td>40.739201</td>\n",
       "      <td>1</td>\n",
       "    </tr>\n",
       "    <tr>\n",
       "      <td>2</td>\n",
       "      <td>2011-10-08 11:53:44.0000002</td>\n",
       "      <td>2011-10-08 11:53:44+00:00</td>\n",
       "      <td>-73.982524</td>\n",
       "      <td>40.751260</td>\n",
       "      <td>-73.979654</td>\n",
       "      <td>40.746139</td>\n",
       "      <td>1</td>\n",
       "    </tr>\n",
       "    <tr>\n",
       "      <td>3</td>\n",
       "      <td>2012-12-01 21:12:12.0000002</td>\n",
       "      <td>2012-12-01 21:12:12+00:00</td>\n",
       "      <td>-73.981160</td>\n",
       "      <td>40.767807</td>\n",
       "      <td>-73.990448</td>\n",
       "      <td>40.751635</td>\n",
       "      <td>1</td>\n",
       "    </tr>\n",
       "    <tr>\n",
       "      <td>4</td>\n",
       "      <td>2012-12-01 21:12:12.0000003</td>\n",
       "      <td>2012-12-01 21:12:12+00:00</td>\n",
       "      <td>-73.966046</td>\n",
       "      <td>40.789775</td>\n",
       "      <td>-73.988565</td>\n",
       "      <td>40.744427</td>\n",
       "      <td>1</td>\n",
       "    </tr>\n",
       "  </tbody>\n",
       "</table>\n",
       "</div>"
      ],
      "text/plain": [
       "                           key           pickup_datetime  pickup_longitude  \\\n",
       "0  2015-01-27 13:08:24.0000002 2015-01-27 13:08:24+00:00        -73.973320   \n",
       "1  2015-01-27 13:08:24.0000003 2015-01-27 13:08:24+00:00        -73.986862   \n",
       "2  2011-10-08 11:53:44.0000002 2011-10-08 11:53:44+00:00        -73.982524   \n",
       "3  2012-12-01 21:12:12.0000002 2012-12-01 21:12:12+00:00        -73.981160   \n",
       "4  2012-12-01 21:12:12.0000003 2012-12-01 21:12:12+00:00        -73.966046   \n",
       "\n",
       "   pickup_latitude  dropoff_longitude  dropoff_latitude  passenger_count  \n",
       "0        40.763805         -73.981430         40.743835                1  \n",
       "1        40.719383         -73.998886         40.739201                1  \n",
       "2        40.751260         -73.979654         40.746139                1  \n",
       "3        40.767807         -73.990448         40.751635                1  \n",
       "4        40.789775         -73.988565         40.744427                1  "
      ]
     },
     "execution_count": 9,
     "metadata": {},
     "output_type": "execute_result"
    }
   ],
   "source": [
    "test.head()"
   ]
  },
  {
   "cell_type": "code",
   "execution_count": 10,
   "metadata": {},
   "outputs": [
    {
     "name": "stdout",
     "output_type": "stream",
     "text": [
      "<class 'pandas.core.frame.DataFrame'>\n",
      "RangeIndex: 9914 entries, 0 to 9913\n",
      "Data columns (total 7 columns):\n",
      "key                  9914 non-null object\n",
      "pickup_datetime      9914 non-null datetime64[ns, UTC]\n",
      "pickup_longitude     9914 non-null float64\n",
      "pickup_latitude      9914 non-null float64\n",
      "dropoff_longitude    9914 non-null float64\n",
      "dropoff_latitude     9914 non-null float64\n",
      "passenger_count      9914 non-null int64\n",
      "dtypes: datetime64[ns, UTC](1), float64(4), int64(1), object(1)\n",
      "memory usage: 542.3+ KB\n"
     ]
    }
   ],
   "source": [
    "test.info()"
   ]
  },
  {
   "cell_type": "markdown",
   "metadata": {},
   "source": [
    "#### 4. Clean-up"
   ]
  },
  {
   "cell_type": "code",
   "execution_count": 11,
   "metadata": {},
   "outputs": [],
   "source": [
    "m = np.mean(train['trip_duration'])\n",
    "s = np.std(train['trip_duration'])\n",
    "train = train[train['trip_duration'] <= m + 2*s]\n",
    "train = train[train['trip_duration'] >= m - 2*s]"
   ]
  },
  {
   "cell_type": "code",
   "execution_count": 12,
   "metadata": {},
   "outputs": [],
   "source": [
    "train = train[train['pickup_longitude'] <= -73.75]\n",
    "train = train[train['pickup_longitude'] >= -74.03]\n",
    "train = train[train['pickup_latitude'] <= 40.85]\n",
    "train = train[train['pickup_latitude'] >= 40.63]\n",
    "train = train[train['dropoff_longitude'] <= -73.75]\n",
    "train = train[train['dropoff_longitude'] >= -74.03]\n",
    "train = train[train['dropoff_latitude'] <= 40.85]\n",
    "train = train[train['dropoff_latitude'] >= 40.63]"
   ]
  },
  {
   "cell_type": "code",
   "execution_count": 13,
   "metadata": {},
   "outputs": [
    {
     "name": "stdout",
     "output_type": "stream",
     "text": [
      "<class 'pandas.core.frame.DataFrame'>\n",
      "Index: 492545 entries, id2875421 to id0013408\n",
      "Data columns (total 10 columns):\n",
      "vendor_id             492545 non-null int64\n",
      "pickup_datetime       492545 non-null datetime64[ns]\n",
      "dropoff_datetime      492545 non-null datetime64[ns]\n",
      "passenger_count       492545 non-null int64\n",
      "pickup_longitude      492545 non-null float64\n",
      "pickup_latitude       492545 non-null float64\n",
      "dropoff_longitude     492545 non-null float64\n",
      "dropoff_latitude      492545 non-null float64\n",
      "store_and_fwd_flag    492545 non-null object\n",
      "trip_duration         492545 non-null int64\n",
      "dtypes: datetime64[ns](2), float64(4), int64(3), object(1)\n",
      "memory usage: 41.3+ MB\n"
     ]
    }
   ],
   "source": [
    "train.info()"
   ]
  },
  {
   "cell_type": "markdown",
   "metadata": {},
   "source": [
    "#### 5. Make sure to read the pickup dates as timestamps"
   ]
  },
  {
   "cell_type": "code",
   "execution_count": 14,
   "metadata": {},
   "outputs": [
    {
     "data": {
      "text/html": [
       "<div>\n",
       "<style scoped>\n",
       "    .dataframe tbody tr th:only-of-type {\n",
       "        vertical-align: middle;\n",
       "    }\n",
       "\n",
       "    .dataframe tbody tr th {\n",
       "        vertical-align: top;\n",
       "    }\n",
       "\n",
       "    .dataframe thead th {\n",
       "        text-align: right;\n",
       "    }\n",
       "</style>\n",
       "<table border=\"1\" class=\"dataframe\">\n",
       "  <thead>\n",
       "    <tr style=\"text-align: right;\">\n",
       "      <th></th>\n",
       "      <th>vendor_id</th>\n",
       "      <th>dropoff_datetime</th>\n",
       "      <th>passenger_count</th>\n",
       "      <th>pickup_longitude</th>\n",
       "      <th>pickup_latitude</th>\n",
       "      <th>dropoff_longitude</th>\n",
       "      <th>dropoff_latitude</th>\n",
       "      <th>store_and_fwd_flag</th>\n",
       "      <th>trip_duration</th>\n",
       "      <th>DayofWeek</th>\n",
       "      <th>Hour</th>\n",
       "      <th>Month</th>\n",
       "    </tr>\n",
       "    <tr>\n",
       "      <th>pickup_datetime</th>\n",
       "      <th></th>\n",
       "      <th></th>\n",
       "      <th></th>\n",
       "      <th></th>\n",
       "      <th></th>\n",
       "      <th></th>\n",
       "      <th></th>\n",
       "      <th></th>\n",
       "      <th></th>\n",
       "      <th></th>\n",
       "      <th></th>\n",
       "      <th></th>\n",
       "    </tr>\n",
       "  </thead>\n",
       "  <tbody>\n",
       "    <tr>\n",
       "      <td>2016-02-12 08:03:14</td>\n",
       "      <td>1</td>\n",
       "      <td>2016-02-12 09:32:05</td>\n",
       "      <td>3</td>\n",
       "      <td>-73.790138</td>\n",
       "      <td>40.647095</td>\n",
       "      <td>-73.980881</td>\n",
       "      <td>40.762527</td>\n",
       "      <td>N</td>\n",
       "      <td>5331</td>\n",
       "      <td>4</td>\n",
       "      <td>8</td>\n",
       "      <td>2</td>\n",
       "    </tr>\n",
       "    <tr>\n",
       "      <td>2016-03-08 13:57:02</td>\n",
       "      <td>1</td>\n",
       "      <td>2016-03-08 14:12:16</td>\n",
       "      <td>2</td>\n",
       "      <td>-74.008438</td>\n",
       "      <td>40.712521</td>\n",
       "      <td>-73.990364</td>\n",
       "      <td>40.746391</td>\n",
       "      <td>N</td>\n",
       "      <td>914</td>\n",
       "      <td>1</td>\n",
       "      <td>13</td>\n",
       "      <td>3</td>\n",
       "    </tr>\n",
       "    <tr>\n",
       "      <td>2016-02-20 00:06:31</td>\n",
       "      <td>2</td>\n",
       "      <td>2016-02-20 00:13:19</td>\n",
       "      <td>2</td>\n",
       "      <td>-73.977669</td>\n",
       "      <td>40.787151</td>\n",
       "      <td>-73.984894</td>\n",
       "      <td>40.768280</td>\n",
       "      <td>N</td>\n",
       "      <td>408</td>\n",
       "      <td>5</td>\n",
       "      <td>0</td>\n",
       "      <td>2</td>\n",
       "    </tr>\n",
       "    <tr>\n",
       "      <td>2016-01-27 17:56:40</td>\n",
       "      <td>1</td>\n",
       "      <td>2016-01-27 18:02:32</td>\n",
       "      <td>1</td>\n",
       "      <td>-73.994362</td>\n",
       "      <td>40.745697</td>\n",
       "      <td>-74.005791</td>\n",
       "      <td>40.733006</td>\n",
       "      <td>N</td>\n",
       "      <td>352</td>\n",
       "      <td>2</td>\n",
       "      <td>17</td>\n",
       "      <td>1</td>\n",
       "    </tr>\n",
       "    <tr>\n",
       "      <td>2016-01-29 20:46:42</td>\n",
       "      <td>1</td>\n",
       "      <td>2016-01-29 21:02:53</td>\n",
       "      <td>1</td>\n",
       "      <td>-73.993736</td>\n",
       "      <td>40.762077</td>\n",
       "      <td>-73.955986</td>\n",
       "      <td>40.778721</td>\n",
       "      <td>N</td>\n",
       "      <td>971</td>\n",
       "      <td>4</td>\n",
       "      <td>20</td>\n",
       "      <td>1</td>\n",
       "    </tr>\n",
       "  </tbody>\n",
       "</table>\n",
       "</div>"
      ],
      "text/plain": [
       "                     vendor_id    dropoff_datetime  passenger_count  \\\n",
       "pickup_datetime                                                       \n",
       "2016-02-12 08:03:14          1 2016-02-12 09:32:05                3   \n",
       "2016-03-08 13:57:02          1 2016-03-08 14:12:16                2   \n",
       "2016-02-20 00:06:31          2 2016-02-20 00:13:19                2   \n",
       "2016-01-27 17:56:40          1 2016-01-27 18:02:32                1   \n",
       "2016-01-29 20:46:42          1 2016-01-29 21:02:53                1   \n",
       "\n",
       "                     pickup_longitude  pickup_latitude  dropoff_longitude  \\\n",
       "pickup_datetime                                                             \n",
       "2016-02-12 08:03:14        -73.790138        40.647095         -73.980881   \n",
       "2016-03-08 13:57:02        -74.008438        40.712521         -73.990364   \n",
       "2016-02-20 00:06:31        -73.977669        40.787151         -73.984894   \n",
       "2016-01-27 17:56:40        -73.994362        40.745697         -74.005791   \n",
       "2016-01-29 20:46:42        -73.993736        40.762077         -73.955986   \n",
       "\n",
       "                     dropoff_latitude store_and_fwd_flag  trip_duration  \\\n",
       "pickup_datetime                                                           \n",
       "2016-02-12 08:03:14         40.762527                  N           5331   \n",
       "2016-03-08 13:57:02         40.746391                  N            914   \n",
       "2016-02-20 00:06:31         40.768280                  N            408   \n",
       "2016-01-27 17:56:40         40.733006                  N            352   \n",
       "2016-01-29 20:46:42         40.778721                  N            971   \n",
       "\n",
       "                     DayofWeek  Hour  Month  \n",
       "pickup_datetime                              \n",
       "2016-02-12 08:03:14          4     8      2  \n",
       "2016-03-08 13:57:02          1    13      3  \n",
       "2016-02-20 00:06:31          5     0      2  \n",
       "2016-01-27 17:56:40          2    17      1  \n",
       "2016-01-29 20:46:42          4    20      1  "
      ]
     },
     "execution_count": 14,
     "metadata": {},
     "output_type": "execute_result"
    }
   ],
   "source": [
    "# Add columns with month, day of week, and hour of day values\n",
    "train = train.set_index('pickup_datetime')\n",
    "train['DayofWeek'] = train.index.dayofweek\n",
    "train['Hour'] = train.index.hour\n",
    "train['Month'] = train.index.month\n",
    "test = test.set_index('pickup_datetime')\n",
    "test['DayofWeek'] = test.index.dayofweek\n",
    "test['Hour'] = test.index.hour\n",
    "test['Month'] = test.index.month\n",
    "\n",
    "# Display a random sampling of 5 rows\n",
    "train.sample(5, random_state=0)"
   ]
  },
  {
   "cell_type": "code",
   "execution_count": 15,
   "metadata": {},
   "outputs": [
    {
     "data": {
      "text/html": [
       "<div>\n",
       "<style scoped>\n",
       "    .dataframe tbody tr th:only-of-type {\n",
       "        vertical-align: middle;\n",
       "    }\n",
       "\n",
       "    .dataframe tbody tr th {\n",
       "        vertical-align: top;\n",
       "    }\n",
       "\n",
       "    .dataframe thead th {\n",
       "        text-align: right;\n",
       "    }\n",
       "</style>\n",
       "<table border=\"1\" class=\"dataframe\">\n",
       "  <thead>\n",
       "    <tr style=\"text-align: right;\">\n",
       "      <th></th>\n",
       "      <th>key</th>\n",
       "      <th>pickup_longitude</th>\n",
       "      <th>pickup_latitude</th>\n",
       "      <th>dropoff_longitude</th>\n",
       "      <th>dropoff_latitude</th>\n",
       "      <th>passenger_count</th>\n",
       "      <th>DayofWeek</th>\n",
       "      <th>Hour</th>\n",
       "      <th>Month</th>\n",
       "    </tr>\n",
       "    <tr>\n",
       "      <th>pickup_datetime</th>\n",
       "      <th></th>\n",
       "      <th></th>\n",
       "      <th></th>\n",
       "      <th></th>\n",
       "      <th></th>\n",
       "      <th></th>\n",
       "      <th></th>\n",
       "      <th></th>\n",
       "      <th></th>\n",
       "    </tr>\n",
       "  </thead>\n",
       "  <tbody>\n",
       "    <tr>\n",
       "      <td>2014-03-11 20:24:02+00:00</td>\n",
       "      <td>2014-03-11 20:24:02.0000001</td>\n",
       "      <td>-73.963902</td>\n",
       "      <td>40.765338</td>\n",
       "      <td>-73.976445</td>\n",
       "      <td>40.764152</td>\n",
       "      <td>2</td>\n",
       "      <td>1</td>\n",
       "      <td>20</td>\n",
       "      <td>3</td>\n",
       "    </tr>\n",
       "    <tr>\n",
       "      <td>2014-12-24 03:00:00+00:00</td>\n",
       "      <td>2014-12-24 03:00:00.00000018</td>\n",
       "      <td>-73.980602</td>\n",
       "      <td>40.730085</td>\n",
       "      <td>-73.978402</td>\n",
       "      <td>40.774817</td>\n",
       "      <td>1</td>\n",
       "      <td>2</td>\n",
       "      <td>3</td>\n",
       "      <td>12</td>\n",
       "    </tr>\n",
       "    <tr>\n",
       "      <td>2013-09-25 22:00:00+00:00</td>\n",
       "      <td>2013-09-25 22:00:00.00000053</td>\n",
       "      <td>-73.874600</td>\n",
       "      <td>40.773985</td>\n",
       "      <td>-73.960362</td>\n",
       "      <td>40.757420</td>\n",
       "      <td>1</td>\n",
       "      <td>2</td>\n",
       "      <td>22</td>\n",
       "      <td>9</td>\n",
       "    </tr>\n",
       "    <tr>\n",
       "      <td>2013-02-10 19:51:53+00:00</td>\n",
       "      <td>2013-02-10 19:51:53.0000002</td>\n",
       "      <td>-73.998873</td>\n",
       "      <td>40.725026</td>\n",
       "      <td>-73.960968</td>\n",
       "      <td>40.757409</td>\n",
       "      <td>1</td>\n",
       "      <td>6</td>\n",
       "      <td>19</td>\n",
       "      <td>2</td>\n",
       "    </tr>\n",
       "    <tr>\n",
       "      <td>2012-11-11 20:35:40+00:00</td>\n",
       "      <td>2012-11-11 20:35:40.0000001</td>\n",
       "      <td>-73.789967</td>\n",
       "      <td>40.646832</td>\n",
       "      <td>-73.973090</td>\n",
       "      <td>40.684484</td>\n",
       "      <td>1</td>\n",
       "      <td>6</td>\n",
       "      <td>20</td>\n",
       "      <td>11</td>\n",
       "    </tr>\n",
       "  </tbody>\n",
       "</table>\n",
       "</div>"
      ],
      "text/plain": [
       "                                                    key  pickup_longitude  \\\n",
       "pickup_datetime                                                             \n",
       "2014-03-11 20:24:02+00:00   2014-03-11 20:24:02.0000001        -73.963902   \n",
       "2014-12-24 03:00:00+00:00  2014-12-24 03:00:00.00000018        -73.980602   \n",
       "2013-09-25 22:00:00+00:00  2013-09-25 22:00:00.00000053        -73.874600   \n",
       "2013-02-10 19:51:53+00:00   2013-02-10 19:51:53.0000002        -73.998873   \n",
       "2012-11-11 20:35:40+00:00   2012-11-11 20:35:40.0000001        -73.789967   \n",
       "\n",
       "                           pickup_latitude  dropoff_longitude  \\\n",
       "pickup_datetime                                                 \n",
       "2014-03-11 20:24:02+00:00        40.765338         -73.976445   \n",
       "2014-12-24 03:00:00+00:00        40.730085         -73.978402   \n",
       "2013-09-25 22:00:00+00:00        40.773985         -73.960362   \n",
       "2013-02-10 19:51:53+00:00        40.725026         -73.960968   \n",
       "2012-11-11 20:35:40+00:00        40.646832         -73.973090   \n",
       "\n",
       "                           dropoff_latitude  passenger_count  DayofWeek  Hour  \\\n",
       "pickup_datetime                                                                 \n",
       "2014-03-11 20:24:02+00:00         40.764152                2          1    20   \n",
       "2014-12-24 03:00:00+00:00         40.774817                1          2     3   \n",
       "2013-09-25 22:00:00+00:00         40.757420                1          2    22   \n",
       "2013-02-10 19:51:53+00:00         40.757409                1          6    19   \n",
       "2012-11-11 20:35:40+00:00         40.684484                1          6    20   \n",
       "\n",
       "                           Month  \n",
       "pickup_datetime                   \n",
       "2014-03-11 20:24:02+00:00      3  \n",
       "2014-12-24 03:00:00+00:00     12  \n",
       "2013-09-25 22:00:00+00:00      9  \n",
       "2013-02-10 19:51:53+00:00      2  \n",
       "2012-11-11 20:35:40+00:00     11  "
      ]
     },
     "execution_count": 15,
     "metadata": {},
     "output_type": "execute_result"
    }
   ],
   "source": [
    "test.sample(5, random_state=0)"
   ]
  },
  {
   "cell_type": "code",
   "execution_count": 16,
   "metadata": {},
   "outputs": [],
   "source": [
    "train = train.reset_index(drop=True)\n",
    "test = test.reset_index(drop=True)"
   ]
  },
  {
   "cell_type": "code",
   "execution_count": 17,
   "metadata": {},
   "outputs": [
    {
     "data": {
      "text/html": [
       "<div>\n",
       "<style scoped>\n",
       "    .dataframe tbody tr th:only-of-type {\n",
       "        vertical-align: middle;\n",
       "    }\n",
       "\n",
       "    .dataframe tbody tr th {\n",
       "        vertical-align: top;\n",
       "    }\n",
       "\n",
       "    .dataframe thead th {\n",
       "        text-align: right;\n",
       "    }\n",
       "</style>\n",
       "<table border=\"1\" class=\"dataframe\">\n",
       "  <thead>\n",
       "    <tr style=\"text-align: right;\">\n",
       "      <th></th>\n",
       "      <th>vendor_id</th>\n",
       "      <th>dropoff_datetime</th>\n",
       "      <th>passenger_count</th>\n",
       "      <th>pickup_longitude</th>\n",
       "      <th>pickup_latitude</th>\n",
       "      <th>dropoff_longitude</th>\n",
       "      <th>dropoff_latitude</th>\n",
       "      <th>store_and_fwd_flag</th>\n",
       "      <th>trip_duration</th>\n",
       "      <th>DayofWeek</th>\n",
       "      <th>Hour</th>\n",
       "      <th>Month</th>\n",
       "    </tr>\n",
       "  </thead>\n",
       "  <tbody>\n",
       "    <tr>\n",
       "      <td>0</td>\n",
       "      <td>2</td>\n",
       "      <td>2016-03-14 17:32:30</td>\n",
       "      <td>1</td>\n",
       "      <td>-73.982155</td>\n",
       "      <td>40.767937</td>\n",
       "      <td>-73.964630</td>\n",
       "      <td>40.765602</td>\n",
       "      <td>N</td>\n",
       "      <td>455</td>\n",
       "      <td>0</td>\n",
       "      <td>17</td>\n",
       "      <td>3</td>\n",
       "    </tr>\n",
       "    <tr>\n",
       "      <td>1</td>\n",
       "      <td>1</td>\n",
       "      <td>2016-06-12 00:54:38</td>\n",
       "      <td>1</td>\n",
       "      <td>-73.980415</td>\n",
       "      <td>40.738564</td>\n",
       "      <td>-73.999481</td>\n",
       "      <td>40.731152</td>\n",
       "      <td>N</td>\n",
       "      <td>663</td>\n",
       "      <td>6</td>\n",
       "      <td>0</td>\n",
       "      <td>6</td>\n",
       "    </tr>\n",
       "    <tr>\n",
       "      <td>2</td>\n",
       "      <td>2</td>\n",
       "      <td>2016-01-19 12:10:48</td>\n",
       "      <td>1</td>\n",
       "      <td>-73.979027</td>\n",
       "      <td>40.763939</td>\n",
       "      <td>-74.005333</td>\n",
       "      <td>40.710087</td>\n",
       "      <td>N</td>\n",
       "      <td>2124</td>\n",
       "      <td>1</td>\n",
       "      <td>11</td>\n",
       "      <td>1</td>\n",
       "    </tr>\n",
       "    <tr>\n",
       "      <td>3</td>\n",
       "      <td>2</td>\n",
       "      <td>2016-04-06 19:39:40</td>\n",
       "      <td>1</td>\n",
       "      <td>-74.010040</td>\n",
       "      <td>40.719971</td>\n",
       "      <td>-74.012268</td>\n",
       "      <td>40.706718</td>\n",
       "      <td>N</td>\n",
       "      <td>429</td>\n",
       "      <td>2</td>\n",
       "      <td>19</td>\n",
       "      <td>4</td>\n",
       "    </tr>\n",
       "    <tr>\n",
       "      <td>4</td>\n",
       "      <td>2</td>\n",
       "      <td>2016-03-26 13:38:10</td>\n",
       "      <td>1</td>\n",
       "      <td>-73.973053</td>\n",
       "      <td>40.793209</td>\n",
       "      <td>-73.972923</td>\n",
       "      <td>40.782520</td>\n",
       "      <td>N</td>\n",
       "      <td>435</td>\n",
       "      <td>5</td>\n",
       "      <td>13</td>\n",
       "      <td>3</td>\n",
       "    </tr>\n",
       "  </tbody>\n",
       "</table>\n",
       "</div>"
      ],
      "text/plain": [
       "   vendor_id    dropoff_datetime  passenger_count  pickup_longitude  \\\n",
       "0          2 2016-03-14 17:32:30                1        -73.982155   \n",
       "1          1 2016-06-12 00:54:38                1        -73.980415   \n",
       "2          2 2016-01-19 12:10:48                1        -73.979027   \n",
       "3          2 2016-04-06 19:39:40                1        -74.010040   \n",
       "4          2 2016-03-26 13:38:10                1        -73.973053   \n",
       "\n",
       "   pickup_latitude  dropoff_longitude  dropoff_latitude store_and_fwd_flag  \\\n",
       "0        40.767937         -73.964630         40.765602                  N   \n",
       "1        40.738564         -73.999481         40.731152                  N   \n",
       "2        40.763939         -74.005333         40.710087                  N   \n",
       "3        40.719971         -74.012268         40.706718                  N   \n",
       "4        40.793209         -73.972923         40.782520                  N   \n",
       "\n",
       "   trip_duration  DayofWeek  Hour  Month  \n",
       "0            455          0    17      3  \n",
       "1            663          6     0      6  \n",
       "2           2124          1    11      1  \n",
       "3            429          2    19      4  \n",
       "4            435          5    13      3  "
      ]
     },
     "execution_count": 17,
     "metadata": {},
     "output_type": "execute_result"
    }
   ],
   "source": [
    "train.head()"
   ]
  },
  {
   "cell_type": "code",
   "execution_count": 18,
   "metadata": {},
   "outputs": [
    {
     "data": {
      "text/html": [
       "<div>\n",
       "<style scoped>\n",
       "    .dataframe tbody tr th:only-of-type {\n",
       "        vertical-align: middle;\n",
       "    }\n",
       "\n",
       "    .dataframe tbody tr th {\n",
       "        vertical-align: top;\n",
       "    }\n",
       "\n",
       "    .dataframe thead th {\n",
       "        text-align: right;\n",
       "    }\n",
       "</style>\n",
       "<table border=\"1\" class=\"dataframe\">\n",
       "  <thead>\n",
       "    <tr style=\"text-align: right;\">\n",
       "      <th></th>\n",
       "      <th>key</th>\n",
       "      <th>pickup_longitude</th>\n",
       "      <th>pickup_latitude</th>\n",
       "      <th>dropoff_longitude</th>\n",
       "      <th>dropoff_latitude</th>\n",
       "      <th>passenger_count</th>\n",
       "      <th>DayofWeek</th>\n",
       "      <th>Hour</th>\n",
       "      <th>Month</th>\n",
       "    </tr>\n",
       "  </thead>\n",
       "  <tbody>\n",
       "    <tr>\n",
       "      <td>0</td>\n",
       "      <td>2015-01-27 13:08:24.0000002</td>\n",
       "      <td>-73.973320</td>\n",
       "      <td>40.763805</td>\n",
       "      <td>-73.981430</td>\n",
       "      <td>40.743835</td>\n",
       "      <td>1</td>\n",
       "      <td>1</td>\n",
       "      <td>13</td>\n",
       "      <td>1</td>\n",
       "    </tr>\n",
       "    <tr>\n",
       "      <td>1</td>\n",
       "      <td>2015-01-27 13:08:24.0000003</td>\n",
       "      <td>-73.986862</td>\n",
       "      <td>40.719383</td>\n",
       "      <td>-73.998886</td>\n",
       "      <td>40.739201</td>\n",
       "      <td>1</td>\n",
       "      <td>1</td>\n",
       "      <td>13</td>\n",
       "      <td>1</td>\n",
       "    </tr>\n",
       "    <tr>\n",
       "      <td>2</td>\n",
       "      <td>2011-10-08 11:53:44.0000002</td>\n",
       "      <td>-73.982524</td>\n",
       "      <td>40.751260</td>\n",
       "      <td>-73.979654</td>\n",
       "      <td>40.746139</td>\n",
       "      <td>1</td>\n",
       "      <td>5</td>\n",
       "      <td>11</td>\n",
       "      <td>10</td>\n",
       "    </tr>\n",
       "    <tr>\n",
       "      <td>3</td>\n",
       "      <td>2012-12-01 21:12:12.0000002</td>\n",
       "      <td>-73.981160</td>\n",
       "      <td>40.767807</td>\n",
       "      <td>-73.990448</td>\n",
       "      <td>40.751635</td>\n",
       "      <td>1</td>\n",
       "      <td>5</td>\n",
       "      <td>21</td>\n",
       "      <td>12</td>\n",
       "    </tr>\n",
       "    <tr>\n",
       "      <td>4</td>\n",
       "      <td>2012-12-01 21:12:12.0000003</td>\n",
       "      <td>-73.966046</td>\n",
       "      <td>40.789775</td>\n",
       "      <td>-73.988565</td>\n",
       "      <td>40.744427</td>\n",
       "      <td>1</td>\n",
       "      <td>5</td>\n",
       "      <td>21</td>\n",
       "      <td>12</td>\n",
       "    </tr>\n",
       "  </tbody>\n",
       "</table>\n",
       "</div>"
      ],
      "text/plain": [
       "                           key  pickup_longitude  pickup_latitude  \\\n",
       "0  2015-01-27 13:08:24.0000002        -73.973320        40.763805   \n",
       "1  2015-01-27 13:08:24.0000003        -73.986862        40.719383   \n",
       "2  2011-10-08 11:53:44.0000002        -73.982524        40.751260   \n",
       "3  2012-12-01 21:12:12.0000002        -73.981160        40.767807   \n",
       "4  2012-12-01 21:12:12.0000003        -73.966046        40.789775   \n",
       "\n",
       "   dropoff_longitude  dropoff_latitude  passenger_count  DayofWeek  Hour  \\\n",
       "0         -73.981430         40.743835                1          1    13   \n",
       "1         -73.998886         40.739201                1          1    13   \n",
       "2         -73.979654         40.746139                1          5    11   \n",
       "3         -73.990448         40.751635                1          5    21   \n",
       "4         -73.988565         40.744427                1          5    21   \n",
       "\n",
       "   Month  \n",
       "0      1  \n",
       "1      1  \n",
       "2     10  \n",
       "3     12  \n",
       "4     12  "
      ]
     },
     "execution_count": 18,
     "metadata": {},
     "output_type": "execute_result"
    }
   ],
   "source": [
    "test.head()"
   ]
  },
  {
   "cell_type": "markdown",
   "metadata": {},
   "source": [
    "#### 6. Plot using seaborn the distribution by:\n",
    "     - month\n",
    "     - day of week\n",
    "     - hour of day"
   ]
  },
  {
   "cell_type": "code",
   "execution_count": 19,
   "metadata": {},
   "outputs": [
    {
     "data": {
      "text/plain": [
       "Text(0.5, 0, 'Month')"
      ]
     },
     "execution_count": 19,
     "metadata": {},
     "output_type": "execute_result"
    },
    {
     "data": {
      "image/png": "[encoded data removed]",
      "text/plain": [
       "<Figure size 720x432 with 1 Axes>"
      ]
     },
     "metadata": {
      "needs_background": "light"
     },
     "output_type": "display_data"
    }
   ],
   "source": [
    "# Set the width and height of the figure\n",
    "plt.figure(figsize=(10,6))\n",
    "\n",
    "# Add title\n",
    "plt.title(\"Pickups per Month\")\n",
    "\n",
    "# Bar chart showing total counts of pickup days of the week\n",
    "sns.countplot('Month', data=train)\n",
    "\n",
    "# Add label for vertical axis\n",
    "plt.xlabel(\"Month\")"
   ]
  },
  {
   "cell_type": "code",
   "execution_count": 20,
   "metadata": {},
   "outputs": [
    {
     "data": {
      "text/plain": [
       "Text(0.5, 0, 'Day of the Week')"
      ]
     },
     "execution_count": 20,
     "metadata": {},
     "output_type": "execute_result"
    },
    {
     "data": {
      "image/png": "[encoded data removed]",
      "text/plain": [
       "<Figure size 720x432 with 1 Axes>"
      ]
     },
     "metadata": {
      "needs_background": "light"
     },
     "output_type": "display_data"
    }
   ],
   "source": [
    "# Set the width and height of the figure\n",
    "plt.figure(figsize=(10,6))\n",
    "\n",
    "# Add title\n",
    "plt.title(\"Pickups per Day of the Week\")\n",
    "\n",
    "# Bar chart showing total counts of pickup days of the week\n",
    "sns.countplot('DayofWeek', data=train)\n",
    "\n",
    "# Add label for vertical axis\n",
    "plt.xlabel(\"Day of the Week\")"
   ]
  },
  {
   "cell_type": "code",
   "execution_count": 21,
   "metadata": {},
   "outputs": [
    {
     "data": {
      "text/plain": [
       "Text(0.5, 0, 'Hour of the Day')"
      ]
     },
     "execution_count": 21,
     "metadata": {},
     "output_type": "execute_result"
    },
    {
     "data": {
      "image/png": "[encoded data removed]",
      "text/plain": [
       "<Figure size 720x432 with 1 Axes>"
      ]
     },
     "metadata": {
      "needs_background": "light"
     },
     "output_type": "display_data"
    }
   ],
   "source": [
    "# Set the width and height of the figure\n",
    "plt.figure(figsize=(10,6))\n",
    "\n",
    "# Add title\n",
    "plt.title(\"Pickups per Hour of the Day\")\n",
    "\n",
    "# Bar chart showing total counts of pickups per hour of the day\n",
    "sns.countplot('Hour', data=train)\n",
    "\n",
    "# Add label for vertical axis\n",
    "plt.xlabel(\"Hour of the Day\")"
   ]
  },
  {
   "cell_type": "markdown",
   "metadata": {},
   "source": [
    "#### 7. Append the haversine distance to the trip record and show top 10 longest records"
   ]
  },
  {
   "cell_type": "code",
   "execution_count": 22,
   "metadata": {},
   "outputs": [
    {
     "data": {
      "text/html": [
       "<div>\n",
       "<style scoped>\n",
       "    .dataframe tbody tr th:only-of-type {\n",
       "        vertical-align: middle;\n",
       "    }\n",
       "\n",
       "    .dataframe tbody tr th {\n",
       "        vertical-align: top;\n",
       "    }\n",
       "\n",
       "    .dataframe thead th {\n",
       "        text-align: right;\n",
       "    }\n",
       "</style>\n",
       "<table border=\"1\" class=\"dataframe\">\n",
       "  <thead>\n",
       "    <tr style=\"text-align: right;\">\n",
       "      <th></th>\n",
       "      <th>vendor_id</th>\n",
       "      <th>dropoff_datetime</th>\n",
       "      <th>passenger_count</th>\n",
       "      <th>pickup_longitude</th>\n",
       "      <th>pickup_latitude</th>\n",
       "      <th>dropoff_longitude</th>\n",
       "      <th>dropoff_latitude</th>\n",
       "      <th>store_and_fwd_flag</th>\n",
       "      <th>trip_duration</th>\n",
       "      <th>DayofWeek</th>\n",
       "      <th>Hour</th>\n",
       "      <th>Month</th>\n",
       "      <th>haversine_distance_km</th>\n",
       "    </tr>\n",
       "  </thead>\n",
       "  <tbody>\n",
       "    <tr>\n",
       "      <td>86424</td>\n",
       "      <td>1</td>\n",
       "      <td>2016-04-29 06:58:11</td>\n",
       "      <td>1</td>\n",
       "      <td>-73.789116</td>\n",
       "      <td>40.641712</td>\n",
       "      <td>-73.990295</td>\n",
       "      <td>40.832928</td>\n",
       "      <td>N</td>\n",
       "      <td>2735</td>\n",
       "      <td>4</td>\n",
       "      <td>6</td>\n",
       "      <td>4</td>\n",
       "      <td>27.191629</td>\n",
       "    </tr>\n",
       "    <tr>\n",
       "      <td>179013</td>\n",
       "      <td>2</td>\n",
       "      <td>2016-05-14 05:12:26</td>\n",
       "      <td>1</td>\n",
       "      <td>-73.776634</td>\n",
       "      <td>40.645370</td>\n",
       "      <td>-73.940659</td>\n",
       "      <td>40.849697</td>\n",
       "      <td>N</td>\n",
       "      <td>2128</td>\n",
       "      <td>5</td>\n",
       "      <td>4</td>\n",
       "      <td>5</td>\n",
       "      <td>26.591816</td>\n",
       "    </tr>\n",
       "    <tr>\n",
       "      <td>306668</td>\n",
       "      <td>2</td>\n",
       "      <td>2016-02-18 18:52:13</td>\n",
       "      <td>5</td>\n",
       "      <td>-73.776833</td>\n",
       "      <td>40.645378</td>\n",
       "      <td>-73.940247</td>\n",
       "      <td>40.848572</td>\n",
       "      <td>N</td>\n",
       "      <td>3183</td>\n",
       "      <td>3</td>\n",
       "      <td>17</td>\n",
       "      <td>2</td>\n",
       "      <td>26.457531</td>\n",
       "    </tr>\n",
       "    <tr>\n",
       "      <td>186152</td>\n",
       "      <td>2</td>\n",
       "      <td>2016-01-01 06:52:57</td>\n",
       "      <td>6</td>\n",
       "      <td>-73.781090</td>\n",
       "      <td>40.645077</td>\n",
       "      <td>-73.937271</td>\n",
       "      <td>40.849789</td>\n",
       "      <td>N</td>\n",
       "      <td>1718</td>\n",
       "      <td>4</td>\n",
       "      <td>6</td>\n",
       "      <td>1</td>\n",
       "      <td>26.291671</td>\n",
       "    </tr>\n",
       "    <tr>\n",
       "      <td>483942</td>\n",
       "      <td>1</td>\n",
       "      <td>2016-01-27 20:10:58</td>\n",
       "      <td>2</td>\n",
       "      <td>-73.776718</td>\n",
       "      <td>40.645321</td>\n",
       "      <td>-73.931160</td>\n",
       "      <td>40.849964</td>\n",
       "      <td>N</td>\n",
       "      <td>2128</td>\n",
       "      <td>2</td>\n",
       "      <td>19</td>\n",
       "      <td>1</td>\n",
       "      <td>26.212000</td>\n",
       "    </tr>\n",
       "    <tr>\n",
       "      <td>1362</td>\n",
       "      <td>2</td>\n",
       "      <td>2016-06-05 05:23:19</td>\n",
       "      <td>1</td>\n",
       "      <td>-73.777443</td>\n",
       "      <td>40.646641</td>\n",
       "      <td>-73.935776</td>\n",
       "      <td>40.848473</td>\n",
       "      <td>N</td>\n",
       "      <td>1515</td>\n",
       "      <td>6</td>\n",
       "      <td>4</td>\n",
       "      <td>6</td>\n",
       "      <td>26.107012</td>\n",
       "    </tr>\n",
       "    <tr>\n",
       "      <td>424738</td>\n",
       "      <td>2</td>\n",
       "      <td>2016-01-15 21:56:25</td>\n",
       "      <td>1</td>\n",
       "      <td>-73.780144</td>\n",
       "      <td>40.645706</td>\n",
       "      <td>-73.938980</td>\n",
       "      <td>40.846321</td>\n",
       "      <td>N</td>\n",
       "      <td>2777</td>\n",
       "      <td>4</td>\n",
       "      <td>21</td>\n",
       "      <td>1</td>\n",
       "      <td>26.012738</td>\n",
       "    </tr>\n",
       "    <tr>\n",
       "      <td>298817</td>\n",
       "      <td>1</td>\n",
       "      <td>2016-03-08 23:42:02</td>\n",
       "      <td>1</td>\n",
       "      <td>-73.789536</td>\n",
       "      <td>40.643532</td>\n",
       "      <td>-73.939407</td>\n",
       "      <td>40.847809</td>\n",
       "      <td>N</td>\n",
       "      <td>2128</td>\n",
       "      <td>1</td>\n",
       "      <td>23</td>\n",
       "      <td>3</td>\n",
       "      <td>25.987645</td>\n",
       "    </tr>\n",
       "    <tr>\n",
       "      <td>101850</td>\n",
       "      <td>2</td>\n",
       "      <td>2016-04-01 00:14:07</td>\n",
       "      <td>1</td>\n",
       "      <td>-73.781929</td>\n",
       "      <td>40.644650</td>\n",
       "      <td>-73.942886</td>\n",
       "      <td>40.843578</td>\n",
       "      <td>N</td>\n",
       "      <td>1808</td>\n",
       "      <td>3</td>\n",
       "      <td>23</td>\n",
       "      <td>3</td>\n",
       "      <td>25.945272</td>\n",
       "    </tr>\n",
       "    <tr>\n",
       "      <td>140726</td>\n",
       "      <td>2</td>\n",
       "      <td>2016-01-24 21:46:54</td>\n",
       "      <td>5</td>\n",
       "      <td>-73.788177</td>\n",
       "      <td>40.641491</td>\n",
       "      <td>-73.937958</td>\n",
       "      <td>40.845161</td>\n",
       "      <td>N</td>\n",
       "      <td>1907</td>\n",
       "      <td>6</td>\n",
       "      <td>21</td>\n",
       "      <td>1</td>\n",
       "      <td>25.925179</td>\n",
       "    </tr>\n",
       "  </tbody>\n",
       "</table>\n",
       "</div>"
      ],
      "text/plain": [
       "        vendor_id    dropoff_datetime  passenger_count  pickup_longitude  \\\n",
       "86424           1 2016-04-29 06:58:11                1        -73.789116   \n",
       "179013          2 2016-05-14 05:12:26                1        -73.776634   \n",
       "306668          2 2016-02-18 18:52:13                5        -73.776833   \n",
       "186152          2 2016-01-01 06:52:57                6        -73.781090   \n",
       "483942          1 2016-01-27 20:10:58                2        -73.776718   \n",
       "1362            2 2016-06-05 05:23:19                1        -73.777443   \n",
       "424738          2 2016-01-15 21:56:25                1        -73.780144   \n",
       "298817          1 2016-03-08 23:42:02                1        -73.789536   \n",
       "101850          2 2016-04-01 00:14:07                1        -73.781929   \n",
       "140726          2 2016-01-24 21:46:54                5        -73.788177   \n",
       "\n",
       "        pickup_latitude  dropoff_longitude  dropoff_latitude  \\\n",
       "86424         40.641712         -73.990295         40.832928   \n",
       "179013        40.645370         -73.940659         40.849697   \n",
       "306668        40.645378         -73.940247         40.848572   \n",
       "186152        40.645077         -73.937271         40.849789   \n",
       "483942        40.645321         -73.931160         40.849964   \n",
       "1362          40.646641         -73.935776         40.848473   \n",
       "424738        40.645706         -73.938980         40.846321   \n",
       "298817        40.643532         -73.939407         40.847809   \n",
       "101850        40.644650         -73.942886         40.843578   \n",
       "140726        40.641491         -73.937958         40.845161   \n",
       "\n",
       "       store_and_fwd_flag  trip_duration  DayofWeek  Hour  Month  \\\n",
       "86424                   N           2735          4     6      4   \n",
       "179013                  N           2128          5     4      5   \n",
       "306668                  N           3183          3    17      2   \n",
       "186152                  N           1718          4     6      1   \n",
       "483942                  N           2128          2    19      1   \n",
       "1362                    N           1515          6     4      6   \n",
       "424738                  N           2777          4    21      1   \n",
       "298817                  N           2128          1    23      3   \n",
       "101850                  N           1808          3    23      3   \n",
       "140726                  N           1907          6    21      1   \n",
       "\n",
       "        haversine_distance_km  \n",
       "86424               27.191629  \n",
       "179013              26.591816  \n",
       "306668              26.457531  \n",
       "186152              26.291671  \n",
       "483942              26.212000  \n",
       "1362                26.107012  \n",
       "424738              26.012738  \n",
       "298817              25.987645  \n",
       "101850              25.945272  \n",
       "140726              25.925179  "
      ]
     },
     "execution_count": 22,
     "metadata": {},
     "output_type": "execute_result"
    }
   ],
   "source": [
    "# Append the haversine distance to the trip record \n",
    "distance_vectorize(train.pickup_latitude, \n",
    "                   train.pickup_longitude,\n",
    "                   train.dropoff_latitude,\n",
    "                   train.dropoff_longitude, \n",
    "                   train)\n",
    "\n",
    "# Show top 10 longest records\n",
    "train.nlargest(10,['haversine_distance_km'])"
   ]
  },
  {
   "cell_type": "code",
   "execution_count": 23,
   "metadata": {},
   "outputs": [],
   "source": [
    "# Append the haversine distance to the trip record \n",
    "distance_vectorize(test.pickup_latitude, \n",
    "                   test.pickup_longitude,\n",
    "                   test.dropoff_latitude,\n",
    "                   test.dropoff_longitude, \n",
    "                   test)"
   ]
  },
  {
   "cell_type": "code",
   "execution_count": 24,
   "metadata": {},
   "outputs": [
    {
     "name": "stdout",
     "output_type": "stream",
     "text": [
      "<class 'pandas.core.frame.DataFrame'>\n",
      "RangeIndex: 9914 entries, 0 to 9913\n",
      "Data columns (total 10 columns):\n",
      "key                      9914 non-null object\n",
      "pickup_longitude         9914 non-null float64\n",
      "pickup_latitude          9914 non-null float64\n",
      "dropoff_longitude        9914 non-null float64\n",
      "dropoff_latitude         9914 non-null float64\n",
      "passenger_count          9914 non-null int64\n",
      "DayofWeek                9914 non-null int64\n",
      "Hour                     9914 non-null int64\n",
      "Month                    9914 non-null int64\n",
      "haversine_distance_km    9914 non-null float64\n",
      "dtypes: float64(5), int64(4), object(1)\n",
      "memory usage: 774.7+ KB\n"
     ]
    }
   ],
   "source": [
    "test.info()"
   ]
  },
  {
   "cell_type": "code",
   "execution_count": 25,
   "metadata": {},
   "outputs": [
    {
     "data": {
      "text/plain": [
       "vendor_id                0\n",
       "dropoff_datetime         0\n",
       "passenger_count          0\n",
       "pickup_longitude         0\n",
       "pickup_latitude          0\n",
       "dropoff_longitude        0\n",
       "dropoff_latitude         0\n",
       "store_and_fwd_flag       0\n",
       "trip_duration            0\n",
       "DayofWeek                0\n",
       "Hour                     0\n",
       "Month                    0\n",
       "haversine_distance_km    0\n",
       "dtype: int64"
      ]
     },
     "execution_count": 25,
     "metadata": {},
     "output_type": "execute_result"
    }
   ],
   "source": [
    "# Locate null data\n",
    "train.isnull().sum()"
   ]
  },
  {
   "cell_type": "code",
   "execution_count": 26,
   "metadata": {},
   "outputs": [
    {
     "data": {
      "image/png": "[encoded data removed]",
      "text/plain": [
       "<Figure size 432x288 with 3 Axes>"
      ]
     },
     "metadata": {
      "needs_background": "light"
     },
     "output_type": "display_data"
    },
    {
     "data": {
      "image/png": "[encoded data removed]",
      "text/plain": [
       "<Figure size 432x288 with 3 Axes>"
      ]
     },
     "metadata": {
      "needs_background": "light"
     },
     "output_type": "display_data"
    }
   ],
   "source": [
    "# Visualize average trip distance and average trip duration for time series variables\n",
    "fig, ax = plt.subplots(ncols=3, sharey=True)\n",
    "ax[0].plot(train.groupby('Hour').mean()['haversine_distance_km'], 'bo-', lw=2, alpha=0.7)\n",
    "ax[1].plot(train.groupby('DayofWeek').mean()['haversine_distance_km'], 'go-', lw=2, alpha=0.7)\n",
    "ax[2].plot(train.groupby('Month').mean()['haversine_distance_km'], 'ro-', lw=2, alpha=0.7)\n",
    "ax[0].set_xlabel('Hour of Day')\n",
    "ax[1].set_xlabel('Day of Week')\n",
    "ax[2].set_xlabel('Month of Year')\n",
    "ax[0].set_ylabel('Average Trip Distance')\n",
    "fig.suptitle('Average Trip Distance by Date')\n",
    "plt.show()\n",
    "fig, ax = plt.subplots(ncols=3, sharey=True)\n",
    "ax[0].plot(train.groupby('Hour').mean()['trip_duration'], 'bo-', lw=2, alpha=0.7)\n",
    "ax[1].plot(train.groupby('DayofWeek').mean()['trip_duration'], 'go-', lw=2, alpha=0.7)\n",
    "ax[2].plot(train.groupby('Month').mean()['trip_duration'], 'ro-', lw=2, alpha=0.7)\n",
    "ax[0].set_xlabel('Hour of Day')\n",
    "ax[1].set_xlabel('Day of Week')\n",
    "ax[2].set_xlabel('Month of Year')\n",
    "ax[0].set_ylabel('Average Trip Duration')\n",
    "fig.suptitle('Average Trip Duration by Date')\n",
    "plt.show()"
   ]
  },
  {
   "cell_type": "code",
   "execution_count": 27,
   "metadata": {},
   "outputs": [],
   "source": [
    "train['log_trip_duration'] = np.log(train['trip_duration'].values + 1)"
   ]
  },
  {
   "cell_type": "markdown",
   "metadata": {},
   "source": [
    "#### 8. Create Dummy Variables"
   ]
  },
  {
   "cell_type": "code",
   "execution_count": 28,
   "metadata": {},
   "outputs": [],
   "source": [
    "for feature in train.columns: # Loop through all columns in the dataframe\n",
    "    if train[feature].dtype == 'object':\n",
    "        train[feature] = pd.Categorical(train[feature]).codes"
   ]
  },
  {
   "cell_type": "code",
   "execution_count": 29,
   "metadata": {},
   "outputs": [
    {
     "name": "stdout",
     "output_type": "stream",
     "text": [
      "<class 'pandas.core.frame.DataFrame'>\n",
      "RangeIndex: 492545 entries, 0 to 492544\n",
      "Data columns (total 14 columns):\n",
      "vendor_id                492545 non-null int64\n",
      "dropoff_datetime         492545 non-null datetime64[ns]\n",
      "passenger_count          492545 non-null int64\n",
      "pickup_longitude         492545 non-null float64\n",
      "pickup_latitude          492545 non-null float64\n",
      "dropoff_longitude        492545 non-null float64\n",
      "dropoff_latitude         492545 non-null float64\n",
      "store_and_fwd_flag       492545 non-null int8\n",
      "trip_duration            492545 non-null int64\n",
      "DayofWeek                492545 non-null int64\n",
      "Hour                     492545 non-null int64\n",
      "Month                    492545 non-null int64\n",
      "haversine_distance_km    492545 non-null float64\n",
      "log_trip_duration        492545 non-null float64\n",
      "dtypes: datetime64[ns](1), float64(6), int64(6), int8(1)\n",
      "memory usage: 49.3 MB\n"
     ]
    }
   ],
   "source": [
    "train.info()"
   ]
  },
  {
   "cell_type": "code",
   "execution_count": 30,
   "metadata": {},
   "outputs": [],
   "source": [
    "passenger_count_train = pd.get_dummies(train['passenger_count'], prefix='pc', prefix_sep='_')\n",
    "month_train = pd.get_dummies(train['Month'], prefix='m', prefix_sep='_')\n",
    "hour_train = pd.get_dummies(train['Hour'], prefix='h', prefix_sep='_')\n",
    "dow_train = pd.get_dummies(train['DayofWeek'], prefix='dow', prefix_sep='_')"
   ]
  },
  {
   "cell_type": "code",
   "execution_count": 31,
   "metadata": {},
   "outputs": [],
   "source": [
    "passenger_count_test = pd.get_dummies(test['passenger_count'], prefix='pc', prefix_sep='_')\n",
    "month_test = pd.get_dummies(test['Month'], prefix='m', prefix_sep='_')\n",
    "hour_test = pd.get_dummies(test['Hour'], prefix='h', prefix_sep='_')\n",
    "dow_test = pd.get_dummies(test['DayofWeek'], prefix='dow', prefix_sep='_')"
   ]
  },
  {
   "cell_type": "code",
   "execution_count": 32,
   "metadata": {},
   "outputs": [],
   "source": [
    "train = train.drop(['vendor_id','passenger_count','store_and_fwd_flag','Month','Hour','DayofWeek','trip_duration',\n",
    "                   'pickup_longitude','pickup_latitude','dropoff_longitude','dropoff_latitude','dropoff_datetime'],axis = 1)"
   ]
  },
  {
   "cell_type": "code",
   "execution_count": 33,
   "metadata": {},
   "outputs": [],
   "source": [
    "test = test.drop(['key','passenger_count','Month','Hour','DayofWeek',\n",
    "                   'pickup_longitude','pickup_latitude','dropoff_longitude','dropoff_latitude'],axis = 1)"
   ]
  },
  {
   "cell_type": "code",
   "execution_count": 34,
   "metadata": {},
   "outputs": [],
   "source": [
    "Train_Master = pd.concat([train,\n",
    "                          passenger_count_train,\n",
    "                          month_train,\n",
    "                          hour_train,\n",
    "                          dow_train],\n",
    "                          axis=1)\n",
    "Test_Master = pd.concat([test,\n",
    "                          passenger_count_train,\n",
    "                          month_train,\n",
    "                          hour_train,\n",
    "                          dow_train],\n",
    "                          axis=1)"
   ]
  },
  {
   "cell_type": "code",
   "execution_count": 35,
   "metadata": {},
   "outputs": [
    {
     "data": {
      "text/plain": [
       "(492545, 46)"
      ]
     },
     "execution_count": 35,
     "metadata": {},
     "output_type": "execute_result"
    }
   ],
   "source": [
    "Train_Master.shape"
   ]
  },
  {
   "cell_type": "code",
   "execution_count": 36,
   "metadata": {},
   "outputs": [
    {
     "data": {
      "text/html": [
       "<div>\n",
       "<style scoped>\n",
       "    .dataframe tbody tr th:only-of-type {\n",
       "        vertical-align: middle;\n",
       "    }\n",
       "\n",
       "    .dataframe tbody tr th {\n",
       "        vertical-align: top;\n",
       "    }\n",
       "\n",
       "    .dataframe thead th {\n",
       "        text-align: right;\n",
       "    }\n",
       "</style>\n",
       "<table border=\"1\" class=\"dataframe\">\n",
       "  <thead>\n",
       "    <tr style=\"text-align: right;\">\n",
       "      <th></th>\n",
       "      <th>haversine_distance_km</th>\n",
       "      <th>log_trip_duration</th>\n",
       "      <th>pc_0</th>\n",
       "      <th>pc_1</th>\n",
       "      <th>pc_2</th>\n",
       "      <th>pc_3</th>\n",
       "      <th>pc_4</th>\n",
       "      <th>pc_5</th>\n",
       "      <th>pc_6</th>\n",
       "      <th>m_1</th>\n",
       "      <th>...</th>\n",
       "      <th>h_21</th>\n",
       "      <th>h_22</th>\n",
       "      <th>h_23</th>\n",
       "      <th>dow_0</th>\n",
       "      <th>dow_1</th>\n",
       "      <th>dow_2</th>\n",
       "      <th>dow_3</th>\n",
       "      <th>dow_4</th>\n",
       "      <th>dow_5</th>\n",
       "      <th>dow_6</th>\n",
       "    </tr>\n",
       "  </thead>\n",
       "  <tbody>\n",
       "    <tr>\n",
       "      <td>0</td>\n",
       "      <td>1.498521</td>\n",
       "      <td>6.122493</td>\n",
       "      <td>0</td>\n",
       "      <td>1</td>\n",
       "      <td>0</td>\n",
       "      <td>0</td>\n",
       "      <td>0</td>\n",
       "      <td>0</td>\n",
       "      <td>0</td>\n",
       "      <td>0</td>\n",
       "      <td>...</td>\n",
       "      <td>0</td>\n",
       "      <td>0</td>\n",
       "      <td>0</td>\n",
       "      <td>1</td>\n",
       "      <td>0</td>\n",
       "      <td>0</td>\n",
       "      <td>0</td>\n",
       "      <td>0</td>\n",
       "      <td>0</td>\n",
       "      <td>0</td>\n",
       "    </tr>\n",
       "    <tr>\n",
       "      <td>1</td>\n",
       "      <td>1.805507</td>\n",
       "      <td>6.498282</td>\n",
       "      <td>0</td>\n",
       "      <td>1</td>\n",
       "      <td>0</td>\n",
       "      <td>0</td>\n",
       "      <td>0</td>\n",
       "      <td>0</td>\n",
       "      <td>0</td>\n",
       "      <td>0</td>\n",
       "      <td>...</td>\n",
       "      <td>0</td>\n",
       "      <td>0</td>\n",
       "      <td>0</td>\n",
       "      <td>0</td>\n",
       "      <td>0</td>\n",
       "      <td>0</td>\n",
       "      <td>0</td>\n",
       "      <td>0</td>\n",
       "      <td>0</td>\n",
       "      <td>1</td>\n",
       "    </tr>\n",
       "    <tr>\n",
       "      <td>2</td>\n",
       "      <td>6.385098</td>\n",
       "      <td>7.661527</td>\n",
       "      <td>0</td>\n",
       "      <td>1</td>\n",
       "      <td>0</td>\n",
       "      <td>0</td>\n",
       "      <td>0</td>\n",
       "      <td>0</td>\n",
       "      <td>0</td>\n",
       "      <td>1</td>\n",
       "      <td>...</td>\n",
       "      <td>0</td>\n",
       "      <td>0</td>\n",
       "      <td>0</td>\n",
       "      <td>0</td>\n",
       "      <td>1</td>\n",
       "      <td>0</td>\n",
       "      <td>0</td>\n",
       "      <td>0</td>\n",
       "      <td>0</td>\n",
       "      <td>0</td>\n",
       "    </tr>\n",
       "    <tr>\n",
       "      <td>3</td>\n",
       "      <td>1.485498</td>\n",
       "      <td>6.063785</td>\n",
       "      <td>0</td>\n",
       "      <td>1</td>\n",
       "      <td>0</td>\n",
       "      <td>0</td>\n",
       "      <td>0</td>\n",
       "      <td>0</td>\n",
       "      <td>0</td>\n",
       "      <td>0</td>\n",
       "      <td>...</td>\n",
       "      <td>0</td>\n",
       "      <td>0</td>\n",
       "      <td>0</td>\n",
       "      <td>0</td>\n",
       "      <td>0</td>\n",
       "      <td>1</td>\n",
       "      <td>0</td>\n",
       "      <td>0</td>\n",
       "      <td>0</td>\n",
       "      <td>0</td>\n",
       "    </tr>\n",
       "    <tr>\n",
       "      <td>4</td>\n",
       "      <td>1.188588</td>\n",
       "      <td>6.077642</td>\n",
       "      <td>0</td>\n",
       "      <td>1</td>\n",
       "      <td>0</td>\n",
       "      <td>0</td>\n",
       "      <td>0</td>\n",
       "      <td>0</td>\n",
       "      <td>0</td>\n",
       "      <td>0</td>\n",
       "      <td>...</td>\n",
       "      <td>0</td>\n",
       "      <td>0</td>\n",
       "      <td>0</td>\n",
       "      <td>0</td>\n",
       "      <td>0</td>\n",
       "      <td>0</td>\n",
       "      <td>0</td>\n",
       "      <td>0</td>\n",
       "      <td>1</td>\n",
       "      <td>0</td>\n",
       "    </tr>\n",
       "  </tbody>\n",
       "</table>\n",
       "<p>5 rows × 46 columns</p>\n",
       "</div>"
      ],
      "text/plain": [
       "   haversine_distance_km  log_trip_duration  pc_0  pc_1  pc_2  pc_3  pc_4  \\\n",
       "0               1.498521           6.122493     0     1     0     0     0   \n",
       "1               1.805507           6.498282     0     1     0     0     0   \n",
       "2               6.385098           7.661527     0     1     0     0     0   \n",
       "3               1.485498           6.063785     0     1     0     0     0   \n",
       "4               1.188588           6.077642     0     1     0     0     0   \n",
       "\n",
       "   pc_5  pc_6  m_1  ...  h_21  h_22  h_23  dow_0  dow_1  dow_2  dow_3  dow_4  \\\n",
       "0     0     0    0  ...     0     0     0      1      0      0      0      0   \n",
       "1     0     0    0  ...     0     0     0      0      0      0      0      0   \n",
       "2     0     0    1  ...     0     0     0      0      1      0      0      0   \n",
       "3     0     0    0  ...     0     0     0      0      0      1      0      0   \n",
       "4     0     0    0  ...     0     0     0      0      0      0      0      0   \n",
       "\n",
       "   dow_5  dow_6  \n",
       "0      0      0  \n",
       "1      0      1  \n",
       "2      0      0  \n",
       "3      0      0  \n",
       "4      1      0  \n",
       "\n",
       "[5 rows x 46 columns]"
      ]
     },
     "execution_count": 36,
     "metadata": {},
     "output_type": "execute_result"
    }
   ],
   "source": [
    "Train_Master.head()"
   ]
  },
  {
   "cell_type": "code",
   "execution_count": 37,
   "metadata": {},
   "outputs": [
    {
     "data": {
      "text/plain": [
       "(492545, 45)"
      ]
     },
     "execution_count": 37,
     "metadata": {},
     "output_type": "execute_result"
    }
   ],
   "source": [
    "Test_Master.shape"
   ]
  },
  {
   "cell_type": "code",
   "execution_count": 38,
   "metadata": {},
   "outputs": [
    {
     "data": {
      "text/html": [
       "<div>\n",
       "<style scoped>\n",
       "    .dataframe tbody tr th:only-of-type {\n",
       "        vertical-align: middle;\n",
       "    }\n",
       "\n",
       "    .dataframe tbody tr th {\n",
       "        vertical-align: top;\n",
       "    }\n",
       "\n",
       "    .dataframe thead th {\n",
       "        text-align: right;\n",
       "    }\n",
       "</style>\n",
       "<table border=\"1\" class=\"dataframe\">\n",
       "  <thead>\n",
       "    <tr style=\"text-align: right;\">\n",
       "      <th></th>\n",
       "      <th>haversine_distance_km</th>\n",
       "      <th>pc_0</th>\n",
       "      <th>pc_1</th>\n",
       "      <th>pc_2</th>\n",
       "      <th>pc_3</th>\n",
       "      <th>pc_4</th>\n",
       "      <th>pc_5</th>\n",
       "      <th>pc_6</th>\n",
       "      <th>m_1</th>\n",
       "      <th>m_2</th>\n",
       "      <th>...</th>\n",
       "      <th>h_21</th>\n",
       "      <th>h_22</th>\n",
       "      <th>h_23</th>\n",
       "      <th>dow_0</th>\n",
       "      <th>dow_1</th>\n",
       "      <th>dow_2</th>\n",
       "      <th>dow_3</th>\n",
       "      <th>dow_4</th>\n",
       "      <th>dow_5</th>\n",
       "      <th>dow_6</th>\n",
       "    </tr>\n",
       "  </thead>\n",
       "  <tbody>\n",
       "    <tr>\n",
       "      <td>0</td>\n",
       "      <td>2.323260</td>\n",
       "      <td>0</td>\n",
       "      <td>1</td>\n",
       "      <td>0</td>\n",
       "      <td>0</td>\n",
       "      <td>0</td>\n",
       "      <td>0</td>\n",
       "      <td>0</td>\n",
       "      <td>0</td>\n",
       "      <td>0</td>\n",
       "      <td>...</td>\n",
       "      <td>0</td>\n",
       "      <td>0</td>\n",
       "      <td>0</td>\n",
       "      <td>1</td>\n",
       "      <td>0</td>\n",
       "      <td>0</td>\n",
       "      <td>0</td>\n",
       "      <td>0</td>\n",
       "      <td>0</td>\n",
       "      <td>0</td>\n",
       "    </tr>\n",
       "    <tr>\n",
       "      <td>1</td>\n",
       "      <td>2.425353</td>\n",
       "      <td>0</td>\n",
       "      <td>1</td>\n",
       "      <td>0</td>\n",
       "      <td>0</td>\n",
       "      <td>0</td>\n",
       "      <td>0</td>\n",
       "      <td>0</td>\n",
       "      <td>0</td>\n",
       "      <td>0</td>\n",
       "      <td>...</td>\n",
       "      <td>0</td>\n",
       "      <td>0</td>\n",
       "      <td>0</td>\n",
       "      <td>0</td>\n",
       "      <td>0</td>\n",
       "      <td>0</td>\n",
       "      <td>0</td>\n",
       "      <td>0</td>\n",
       "      <td>0</td>\n",
       "      <td>1</td>\n",
       "    </tr>\n",
       "    <tr>\n",
       "      <td>2</td>\n",
       "      <td>0.618628</td>\n",
       "      <td>0</td>\n",
       "      <td>1</td>\n",
       "      <td>0</td>\n",
       "      <td>0</td>\n",
       "      <td>0</td>\n",
       "      <td>0</td>\n",
       "      <td>0</td>\n",
       "      <td>1</td>\n",
       "      <td>0</td>\n",
       "      <td>...</td>\n",
       "      <td>0</td>\n",
       "      <td>0</td>\n",
       "      <td>0</td>\n",
       "      <td>0</td>\n",
       "      <td>1</td>\n",
       "      <td>0</td>\n",
       "      <td>0</td>\n",
       "      <td>0</td>\n",
       "      <td>0</td>\n",
       "      <td>0</td>\n",
       "    </tr>\n",
       "    <tr>\n",
       "      <td>3</td>\n",
       "      <td>1.961033</td>\n",
       "      <td>0</td>\n",
       "      <td>1</td>\n",
       "      <td>0</td>\n",
       "      <td>0</td>\n",
       "      <td>0</td>\n",
       "      <td>0</td>\n",
       "      <td>0</td>\n",
       "      <td>0</td>\n",
       "      <td>0</td>\n",
       "      <td>...</td>\n",
       "      <td>0</td>\n",
       "      <td>0</td>\n",
       "      <td>0</td>\n",
       "      <td>0</td>\n",
       "      <td>0</td>\n",
       "      <td>1</td>\n",
       "      <td>0</td>\n",
       "      <td>0</td>\n",
       "      <td>0</td>\n",
       "      <td>0</td>\n",
       "    </tr>\n",
       "    <tr>\n",
       "      <td>4</td>\n",
       "      <td>5.387301</td>\n",
       "      <td>0</td>\n",
       "      <td>1</td>\n",
       "      <td>0</td>\n",
       "      <td>0</td>\n",
       "      <td>0</td>\n",
       "      <td>0</td>\n",
       "      <td>0</td>\n",
       "      <td>0</td>\n",
       "      <td>0</td>\n",
       "      <td>...</td>\n",
       "      <td>0</td>\n",
       "      <td>0</td>\n",
       "      <td>0</td>\n",
       "      <td>0</td>\n",
       "      <td>0</td>\n",
       "      <td>0</td>\n",
       "      <td>0</td>\n",
       "      <td>0</td>\n",
       "      <td>1</td>\n",
       "      <td>0</td>\n",
       "    </tr>\n",
       "  </tbody>\n",
       "</table>\n",
       "<p>5 rows × 45 columns</p>\n",
       "</div>"
      ],
      "text/plain": [
       "   haversine_distance_km  pc_0  pc_1  pc_2  pc_3  pc_4  pc_5  pc_6  m_1  m_2  \\\n",
       "0               2.323260     0     1     0     0     0     0     0    0    0   \n",
       "1               2.425353     0     1     0     0     0     0     0    0    0   \n",
       "2               0.618628     0     1     0     0     0     0     0    1    0   \n",
       "3               1.961033     0     1     0     0     0     0     0    0    0   \n",
       "4               5.387301     0     1     0     0     0     0     0    0    0   \n",
       "\n",
       "   ...  h_21  h_22  h_23  dow_0  dow_1  dow_2  dow_3  dow_4  dow_5  dow_6  \n",
       "0  ...     0     0     0      1      0      0      0      0      0      0  \n",
       "1  ...     0     0     0      0      0      0      0      0      0      1  \n",
       "2  ...     0     0     0      0      1      0      0      0      0      0  \n",
       "3  ...     0     0     0      0      0      1      0      0      0      0  \n",
       "4  ...     0     0     0      0      0      0      0      0      1      0  \n",
       "\n",
       "[5 rows x 45 columns]"
      ]
     },
     "execution_count": 38,
     "metadata": {},
     "output_type": "execute_result"
    }
   ],
   "source": [
    "Test_Master.head()"
   ]
  },
  {
   "cell_type": "markdown",
   "metadata": {},
   "source": [
    "##### Define variables"
   ]
  },
  {
   "cell_type": "code",
   "execution_count": 39,
   "metadata": {},
   "outputs": [],
   "source": [
    "Train, Test = skl.model_selection.train_test_split(Train_Master[0:100000], test_size = 0.2)"
   ]
  },
  {
   "cell_type": "code",
   "execution_count": 40,
   "metadata": {},
   "outputs": [],
   "source": [
    "X_train = Train.drop(['log_trip_duration'], axis=1)\n",
    "y_train = Train[\"log_trip_duration\"]\n",
    "X_valid = Test.drop(['log_trip_duration'], axis=1)\n",
    "y_valid = Test[\"log_trip_duration\"]"
   ]
  },
  {
   "cell_type": "code",
   "execution_count": 41,
   "metadata": {},
   "outputs": [],
   "source": [
    "y_valid = y_valid.reset_index().drop('index',axis = 1)\n",
    "y_train = y_train.reset_index().drop('index',axis = 1)"
   ]
  },
  {
   "cell_type": "markdown",
   "metadata": {},
   "source": [
    "#### 9. AdaBoost"
   ]
  },
  {
   "cell_type": "code",
   "execution_count": 42,
   "metadata": {},
   "outputs": [
    {
     "name": "stderr",
     "output_type": "stream",
     "text": [
      "C:\\Users\\TVL\\Anaconda3\\lib\\site-packages\\sklearn\\utils\\validation.py:724: DataConversionWarning: A column-vector y was passed when a 1d array was expected. Please change the shape of y to (n_samples, ), for example using ravel().\n",
      "  y = column_or_1d(y, warn=True)\n"
     ]
    }
   ],
   "source": [
    "from sklearn.ensemble import AdaBoostRegressor\n",
    "from sklearn.metrics import explained_variance_score\n",
    "\n",
    "ada = AdaBoostRegressor(n_estimators=50, \n",
    "                        learning_rate=0.2,\n",
    "                        loss='exponential').fit(X_train, \n",
    "                                                y_train)\n",
    "pred = ada.predict(X_valid)\n",
    "adab = ada.score(X_valid,\n",
    "                 y_valid)\n",
    "predict = ada.predict(X_valid)\n",
    "exp_ada = explained_variance_score(predict,\n",
    "                                   y_valid)"
   ]
  },
  {
   "cell_type": "code",
   "execution_count": 43,
   "metadata": {},
   "outputs": [
    {
     "data": {
      "text/plain": [
       "0.61727447661198"
      ]
     },
     "execution_count": 43,
     "metadata": {},
     "output_type": "execute_result"
    }
   ],
   "source": [
    "adab"
   ]
  },
  {
   "cell_type": "code",
   "execution_count": 44,
   "metadata": {},
   "outputs": [
    {
     "data": {
      "text/plain": [
       "0.31656495066329815"
      ]
     },
     "execution_count": 44,
     "metadata": {},
     "output_type": "execute_result"
    }
   ],
   "source": [
    "exp_ada"
   ]
  },
  {
   "cell_type": "markdown",
   "metadata": {},
   "source": [
    "#### 10. Gradient Boost "
   ]
  },
  {
   "cell_type": "code",
   "execution_count": 45,
   "metadata": {},
   "outputs": [
    {
     "name": "stderr",
     "output_type": "stream",
     "text": [
      "C:\\Users\\TVL\\Anaconda3\\lib\\site-packages\\sklearn\\ensemble\\gradient_boosting.py:1450: DataConversionWarning: A column-vector y was passed when a 1d array was expected. Please change the shape of y to (n_samples, ), for example using ravel().\n",
      "  y = column_or_1d(y, warn=True)\n"
     ]
    }
   ],
   "source": [
    "from sklearn.ensemble import GradientBoostingRegressor\n",
    "\n",
    "est = GradientBoostingRegressor(n_estimators=400, \n",
    "                                max_depth=5, \n",
    "                                loss='ls',\n",
    "                                min_samples_split=2,\n",
    "                                learning_rate=0.1).fit(X_train, \n",
    "                                                       y_train)\n",
    "gradient = est.score(X_valid,\n",
    "                     y_valid)\n",
    "pred = est.predict(X_valid)\n",
    "exp_est = explained_variance_score(pred,\n",
    "                                   y_valid)"
   ]
  },
  {
   "cell_type": "code",
   "execution_count": 46,
   "metadata": {},
   "outputs": [
    {
     "data": {
      "text/plain": [
       "0.6757778160850216"
      ]
     },
     "execution_count": 46,
     "metadata": {},
     "output_type": "execute_result"
    }
   ],
   "source": [
    "gradient"
   ]
  },
  {
   "cell_type": "code",
   "execution_count": 47,
   "metadata": {},
   "outputs": [
    {
     "data": {
      "text/plain": [
       "0.5399758758782292"
      ]
     },
     "execution_count": 47,
     "metadata": {},
     "output_type": "execute_result"
    }
   ],
   "source": [
    "exp_est"
   ]
  },
  {
   "cell_type": "markdown",
   "metadata": {},
   "source": [
    "#### 11. XGBoost"
   ]
  },
  {
   "cell_type": "code",
   "execution_count": 48,
   "metadata": {},
   "outputs": [],
   "source": [
    "XGB = xgb.XGBRegressor()"
   ]
  },
  {
   "cell_type": "code",
   "execution_count": 49,
   "metadata": {},
   "outputs": [
    {
     "data": {
      "text/plain": [
       "XGBRegressor(base_score=0.5, booster=None, colsample_bylevel=1,\n",
       "             colsample_bynode=1, colsample_bytree=1, gamma=0, gpu_id=-1,\n",
       "             importance_type='gain', interaction_constraints=None,\n",
       "             learning_rate=0.300000012, max_delta_step=0, max_depth=6,\n",
       "             min_child_weight=1, missing=nan, monotone_constraints=None,\n",
       "             n_estimators=100, n_jobs=0, num_parallel_tree=1,\n",
       "             objective='reg:squarederror', random_state=0, reg_alpha=0,\n",
       "             reg_lambda=1, scale_pos_weight=1, subsample=1, tree_method=None,\n",
       "             validate_parameters=False, verbosity=None)"
      ]
     },
     "execution_count": 49,
     "metadata": {},
     "output_type": "execute_result"
    }
   ],
   "source": [
    "XGB.fit(X_train, y_train)"
   ]
  },
  {
   "cell_type": "code",
   "execution_count": 50,
   "metadata": {},
   "outputs": [],
   "source": [
    "y_pred = XGB.predict(X_valid)"
   ]
  },
  {
   "cell_type": "code",
   "execution_count": 51,
   "metadata": {},
   "outputs": [
    {
     "data": {
      "text/plain": [
       "0.6741388101492065"
      ]
     },
     "execution_count": 51,
     "metadata": {},
     "output_type": "execute_result"
    }
   ],
   "source": [
    "XGB.score(X_valid, y_valid)"
   ]
  },
  {
   "cell_type": "code",
   "execution_count": 54,
   "metadata": {},
   "outputs": [],
   "source": [
    "exp_xgb = explained_variance_score(y_pred,\n",
    "                                   y_valid)"
   ]
  },
  {
   "cell_type": "code",
   "execution_count": 55,
   "metadata": {},
   "outputs": [
    {
     "data": {
      "text/plain": [
       "0.5384594175199382"
      ]
     },
     "execution_count": 55,
     "metadata": {},
     "output_type": "execute_result"
    }
   ],
   "source": [
    "exp_xgb"
   ]
  },
  {
   "cell_type": "code",
   "execution_count": 52,
   "metadata": {},
   "outputs": [],
   "source": [
    "from matplotlib import pyplot\n",
    "from xgboost import plot_tree, plot_importance"
   ]
  },
  {
   "cell_type": "code",
   "execution_count": 53,
   "metadata": {},
   "outputs": [
    {
     "data": {
      "image/png": "[encoded data removed]",
      "text/plain": [
       "<Figure size 864x864 with 1 Axes>"
      ]
     },
     "metadata": {
      "needs_background": "light"
     },
     "output_type": "display_data"
    }
   ],
   "source": [
    "_, ax = pyplot.subplots(figsize=(12,12))\n",
    "ax = plot_importance(XGB, ax=ax)"
   ]
  }
 ],
 "metadata": {
  "kernelspec": {
   "display_name": "Python 3",
   "language": "python",
   "name": "python3"
  },
  "language_info": {
   "codemirror_mode": {
    "name": "ipython",
    "version": 3
   },
   "file_extension": ".py",
   "mimetype": "text/x-python",
   "name": "python",
   "nbconvert_exporter": "python",
   "pygments_lexer": "ipython3",
   "version": "3.7.4"
  }
 },
 "nbformat": 4,
 "nbformat_minor": 4
}
